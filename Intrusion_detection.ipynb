{
  "nbformat": 4,
  "nbformat_minor": 0,
  "metadata": {
    "colab": {
      "name": "Intrusion_detection.ipynb",
      "provenance": [],
      "authorship_tag": "ABX9TyM7HYYLh3A6yfzK1xnk0ROF",
      "include_colab_link": true
    },
    "kernelspec": {
      "name": "python3",
      "display_name": "Python 3"
    },
    "language_info": {
      "name": "python"
    }
  },
  "cells": [
    {
      "cell_type": "markdown",
      "metadata": {
        "id": "view-in-github",
        "colab_type": "text"
      },
      "source": [
        "<a href=\"https://colab.research.google.com/github/Al-tekreeti/intrusion-detection/blob/main/Intrusion_detection.ipynb\" target=\"_parent\"><img src=\"https://colab.research.google.com/assets/colab-badge.svg\" alt=\"Open In Colab\"/></a>"
      ]
    },
    {
      "cell_type": "code",
      "metadata": {
        "colab": {
          "base_uri": "https://localhost:8080/"
        },
        "id": "RTtYfaAse0Ad",
        "outputId": "96d54105-0249-4739-cbc8-a06dd7a303bb"
      },
      "source": [
        "from google.colab import drive\n",
        "drive.mount(\"/content/gdrive\")\n",
        "\n",
        "import tensorflow as tf\n",
        "from tensorflow import keras\n",
        "\n",
        "import os\n",
        "import tempfile\n",
        "\n",
        "import matplotlib as mpl\n",
        "import matplotlib.pyplot as plt\n",
        "import numpy as np\n",
        "import pandas as pd\n",
        "import seaborn as sns\n",
        "\n",
        "import sklearn\n",
        "from sklearn.metrics import confusion_matrix\n",
        "from sklearn.model_selection import train_test_split\n",
        "from sklearn.preprocessing import StandardScaler"
      ],
      "execution_count": 1,
      "outputs": [
        {
          "output_type": "stream",
          "text": [
            "Mounted at /content/gdrive\n"
          ],
          "name": "stdout"
        }
      ]
    },
    {
      "cell_type": "code",
      "metadata": {
        "id": "mowUCZUvIZ89"
      },
      "source": [
        "mpl.rcParams['figure.figsize'] = (12, 10)\n",
        "colors = plt.rcParams['axes.prop_cycle'].by_key()['color']"
      ],
      "execution_count": 2,
      "outputs": []
    },
    {
      "cell_type": "code",
      "metadata": {
        "colab": {
          "base_uri": "https://localhost:8080/"
        },
        "id": "3PGebXY9i-2Q",
        "outputId": "eb497e90-a81f-4ff1-fe59-4790ef1d5be6"
      },
      "source": [
        "!ls -la /content/gdrive/MyDrive/Mustafa/'Data Set'/BG-university/Danmini_Doorbell/gafgyt_attacks.rar"
      ],
      "execution_count": null,
      "outputs": [
        {
          "output_type": "stream",
          "text": [
            "-rw------- 1 root root 55773915 Apr  6 15:29 '/content/gdrive/MyDrive/Mustafa/Data Set/BG-university/Danmini_Doorbell/gafgyt_attacks.rar'\n"
          ],
          "name": "stdout"
        }
      ]
    },
    {
      "cell_type": "code",
      "metadata": {
        "colab": {
          "base_uri": "https://localhost:8080/"
        },
        "id": "pxnOiyi1j4lD",
        "outputId": "9cc1359d-f2e0-4d26-dd56-d3253911bd67"
      },
      "source": [
        "benign_traffic = pd.read_csv('/content/gdrive/MyDrive/Mustafa/Data Set/BG-university/Danmini_Doorbell/benign_traffic.csv')\n",
        "benign_traffic.shape"
      ],
      "execution_count": 3,
      "outputs": [
        {
          "output_type": "execute_result",
          "data": {
            "text/plain": [
              "(49548, 115)"
            ]
          },
          "metadata": {
            "tags": []
          },
          "execution_count": 3
        }
      ]
    },
    {
      "cell_type": "code",
      "metadata": {
        "colab": {
          "base_uri": "https://localhost:8080/"
        },
        "id": "cUXHd4_M1o4f",
        "outputId": "652d958f-52cc-47be-8ea7-1b3fbfd20dcb"
      },
      "source": [
        "udp_attack_traffic = pd.read_csv('/content/gdrive/MyDrive/Mustafa/Data Set/BG-university/Danmini_Doorbell/mirai_attacks/udp.csv')\n",
        "udp_attack_traffic.shape"
      ],
      "execution_count": 4,
      "outputs": [
        {
          "output_type": "execute_result",
          "data": {
            "text/plain": [
              "(237665, 115)"
            ]
          },
          "metadata": {
            "tags": []
          },
          "execution_count": 4
        }
      ]
    },
    {
      "cell_type": "code",
      "metadata": {
        "colab": {
          "base_uri": "https://localhost:8080/"
        },
        "id": "vL93OGuK4cAv",
        "outputId": "13c2ff3a-2eae-49da-f7ff-b4296d3f860d"
      },
      "source": [
        "benign_traffic.columns == udp_attack_traffic.columns"
      ],
      "execution_count": null,
      "outputs": [
        {
          "output_type": "execute_result",
          "data": {
            "text/plain": [
              "array([ True,  True,  True,  True,  True,  True,  True,  True,  True,\n",
              "        True,  True,  True,  True,  True,  True,  True,  True,  True,\n",
              "        True,  True,  True,  True,  True,  True,  True,  True,  True,\n",
              "        True,  True,  True,  True,  True,  True,  True,  True,  True,\n",
              "        True,  True,  True,  True,  True,  True,  True,  True,  True,\n",
              "        True,  True,  True,  True,  True,  True,  True,  True,  True,\n",
              "        True,  True,  True,  True,  True,  True,  True,  True,  True,\n",
              "        True,  True,  True,  True,  True,  True,  True,  True,  True,\n",
              "        True,  True,  True,  True,  True,  True,  True,  True,  True,\n",
              "        True,  True,  True,  True,  True,  True,  True,  True,  True,\n",
              "        True,  True,  True,  True,  True,  True,  True,  True,  True,\n",
              "        True,  True,  True,  True,  True,  True,  True,  True,  True,\n",
              "        True,  True,  True,  True,  True,  True,  True])"
            ]
          },
          "metadata": {
            "tags": []
          },
          "execution_count": 5
        }
      ]
    },
    {
      "cell_type": "code",
      "metadata": {
        "id": "XMvd8rcR4x3s",
        "colab": {
          "base_uri": "https://localhost:8080/",
          "height": 256
        },
        "outputId": "be8fc441-d1d0-4965-f0a9-09b414f21aa1"
      },
      "source": [
        "benign_traffic['Class'] = 0\n",
        "udp_attack_traffic['Class'] = 1\n",
        "udp_attack_traffic.head()"
      ],
      "execution_count": 5,
      "outputs": [
        {
          "output_type": "execute_result",
          "data": {
            "text/html": [
              "<div>\n",
              "<style scoped>\n",
              "    .dataframe tbody tr th:only-of-type {\n",
              "        vertical-align: middle;\n",
              "    }\n",
              "\n",
              "    .dataframe tbody tr th {\n",
              "        vertical-align: top;\n",
              "    }\n",
              "\n",
              "    .dataframe thead th {\n",
              "        text-align: right;\n",
              "    }\n",
              "</style>\n",
              "<table border=\"1\" class=\"dataframe\">\n",
              "  <thead>\n",
              "    <tr style=\"text-align: right;\">\n",
              "      <th></th>\n",
              "      <th>MI_dir_L5_weight</th>\n",
              "      <th>MI_dir_L5_mean</th>\n",
              "      <th>MI_dir_L5_variance</th>\n",
              "      <th>MI_dir_L3_weight</th>\n",
              "      <th>MI_dir_L3_mean</th>\n",
              "      <th>MI_dir_L3_variance</th>\n",
              "      <th>MI_dir_L1_weight</th>\n",
              "      <th>MI_dir_L1_mean</th>\n",
              "      <th>MI_dir_L1_variance</th>\n",
              "      <th>MI_dir_L0.1_weight</th>\n",
              "      <th>MI_dir_L0.1_mean</th>\n",
              "      <th>MI_dir_L0.1_variance</th>\n",
              "      <th>MI_dir_L0.01_weight</th>\n",
              "      <th>MI_dir_L0.01_mean</th>\n",
              "      <th>MI_dir_L0.01_variance</th>\n",
              "      <th>H_L5_weight</th>\n",
              "      <th>H_L5_mean</th>\n",
              "      <th>H_L5_variance</th>\n",
              "      <th>H_L3_weight</th>\n",
              "      <th>H_L3_mean</th>\n",
              "      <th>H_L3_variance</th>\n",
              "      <th>H_L1_weight</th>\n",
              "      <th>H_L1_mean</th>\n",
              "      <th>H_L1_variance</th>\n",
              "      <th>H_L0.1_weight</th>\n",
              "      <th>H_L0.1_mean</th>\n",
              "      <th>H_L0.1_variance</th>\n",
              "      <th>H_L0.01_weight</th>\n",
              "      <th>H_L0.01_mean</th>\n",
              "      <th>H_L0.01_variance</th>\n",
              "      <th>HH_L5_weight</th>\n",
              "      <th>HH_L5_mean</th>\n",
              "      <th>HH_L5_std</th>\n",
              "      <th>HH_L5_magnitude</th>\n",
              "      <th>HH_L5_radius</th>\n",
              "      <th>HH_L5_covariance</th>\n",
              "      <th>HH_L5_pcc</th>\n",
              "      <th>HH_L3_weight</th>\n",
              "      <th>HH_L3_mean</th>\n",
              "      <th>HH_L3_std</th>\n",
              "      <th>...</th>\n",
              "      <th>HH_jit_L0.1_variance</th>\n",
              "      <th>HH_jit_L0.01_weight</th>\n",
              "      <th>HH_jit_L0.01_mean</th>\n",
              "      <th>HH_jit_L0.01_variance</th>\n",
              "      <th>HpHp_L5_weight</th>\n",
              "      <th>HpHp_L5_mean</th>\n",
              "      <th>HpHp_L5_std</th>\n",
              "      <th>HpHp_L5_magnitude</th>\n",
              "      <th>HpHp_L5_radius</th>\n",
              "      <th>HpHp_L5_covariance</th>\n",
              "      <th>HpHp_L5_pcc</th>\n",
              "      <th>HpHp_L3_weight</th>\n",
              "      <th>HpHp_L3_mean</th>\n",
              "      <th>HpHp_L3_std</th>\n",
              "      <th>HpHp_L3_magnitude</th>\n",
              "      <th>HpHp_L3_radius</th>\n",
              "      <th>HpHp_L3_covariance</th>\n",
              "      <th>HpHp_L3_pcc</th>\n",
              "      <th>HpHp_L1_weight</th>\n",
              "      <th>HpHp_L1_mean</th>\n",
              "      <th>HpHp_L1_std</th>\n",
              "      <th>HpHp_L1_magnitude</th>\n",
              "      <th>HpHp_L1_radius</th>\n",
              "      <th>HpHp_L1_covariance</th>\n",
              "      <th>HpHp_L1_pcc</th>\n",
              "      <th>HpHp_L0.1_weight</th>\n",
              "      <th>HpHp_L0.1_mean</th>\n",
              "      <th>HpHp_L0.1_std</th>\n",
              "      <th>HpHp_L0.1_magnitude</th>\n",
              "      <th>HpHp_L0.1_radius</th>\n",
              "      <th>HpHp_L0.1_covariance</th>\n",
              "      <th>HpHp_L0.1_pcc</th>\n",
              "      <th>HpHp_L0.01_weight</th>\n",
              "      <th>HpHp_L0.01_mean</th>\n",
              "      <th>HpHp_L0.01_std</th>\n",
              "      <th>HpHp_L0.01_magnitude</th>\n",
              "      <th>HpHp_L0.01_radius</th>\n",
              "      <th>HpHp_L0.01_covariance</th>\n",
              "      <th>HpHp_L0.01_pcc</th>\n",
              "      <th>Class</th>\n",
              "    </tr>\n",
              "  </thead>\n",
              "  <tbody>\n",
              "    <tr>\n",
              "      <th>0</th>\n",
              "      <td>1.000000</td>\n",
              "      <td>60.0</td>\n",
              "      <td>0.000000e+00</td>\n",
              "      <td>1.000000</td>\n",
              "      <td>60.0</td>\n",
              "      <td>0.000000e+00</td>\n",
              "      <td>1.000000</td>\n",
              "      <td>60.0</td>\n",
              "      <td>0.000000e+00</td>\n",
              "      <td>1.000000</td>\n",
              "      <td>60.0</td>\n",
              "      <td>0.000000e+00</td>\n",
              "      <td>1.000000</td>\n",
              "      <td>60.0</td>\n",
              "      <td>0.000000e+00</td>\n",
              "      <td>1.000000</td>\n",
              "      <td>60.0</td>\n",
              "      <td>0.000000e+00</td>\n",
              "      <td>1.000000</td>\n",
              "      <td>60.0</td>\n",
              "      <td>0.000000e+00</td>\n",
              "      <td>1.000000</td>\n",
              "      <td>60.0</td>\n",
              "      <td>0.000000e+00</td>\n",
              "      <td>1.000000</td>\n",
              "      <td>60.0</td>\n",
              "      <td>0.000000e+00</td>\n",
              "      <td>1.000000</td>\n",
              "      <td>60.0</td>\n",
              "      <td>0.000000e+00</td>\n",
              "      <td>1.0</td>\n",
              "      <td>60.0</td>\n",
              "      <td>0.0</td>\n",
              "      <td>60.0</td>\n",
              "      <td>0.0</td>\n",
              "      <td>0.0</td>\n",
              "      <td>0.0</td>\n",
              "      <td>1.0</td>\n",
              "      <td>60.0</td>\n",
              "      <td>0.0</td>\n",
              "      <td>...</td>\n",
              "      <td>0.0</td>\n",
              "      <td>1.0</td>\n",
              "      <td>1.507656e+09</td>\n",
              "      <td>0.0</td>\n",
              "      <td>1.0</td>\n",
              "      <td>60.0</td>\n",
              "      <td>0.0</td>\n",
              "      <td>60.0</td>\n",
              "      <td>0.0</td>\n",
              "      <td>0.0</td>\n",
              "      <td>0.0</td>\n",
              "      <td>1.0</td>\n",
              "      <td>60.0</td>\n",
              "      <td>0.0</td>\n",
              "      <td>60.0</td>\n",
              "      <td>0.0</td>\n",
              "      <td>0.0</td>\n",
              "      <td>0.0</td>\n",
              "      <td>1.0</td>\n",
              "      <td>60.0</td>\n",
              "      <td>0.0</td>\n",
              "      <td>60.0</td>\n",
              "      <td>0.0</td>\n",
              "      <td>0.0</td>\n",
              "      <td>0.0</td>\n",
              "      <td>1.0</td>\n",
              "      <td>60.0</td>\n",
              "      <td>0.0</td>\n",
              "      <td>60.0</td>\n",
              "      <td>0.0</td>\n",
              "      <td>0.0</td>\n",
              "      <td>0.0</td>\n",
              "      <td>1.0</td>\n",
              "      <td>60.0</td>\n",
              "      <td>0.0</td>\n",
              "      <td>60.0</td>\n",
              "      <td>0.0</td>\n",
              "      <td>0.0</td>\n",
              "      <td>0.0</td>\n",
              "      <td>1</td>\n",
              "    </tr>\n",
              "    <tr>\n",
              "      <th>1</th>\n",
              "      <td>1.997781</td>\n",
              "      <td>60.0</td>\n",
              "      <td>0.000000e+00</td>\n",
              "      <td>1.998668</td>\n",
              "      <td>60.0</td>\n",
              "      <td>0.000000e+00</td>\n",
              "      <td>1.999556</td>\n",
              "      <td>60.0</td>\n",
              "      <td>4.547474e-13</td>\n",
              "      <td>1.999956</td>\n",
              "      <td>60.0</td>\n",
              "      <td>0.000000e+00</td>\n",
              "      <td>1.999996</td>\n",
              "      <td>60.0</td>\n",
              "      <td>0.000000e+00</td>\n",
              "      <td>1.997781</td>\n",
              "      <td>60.0</td>\n",
              "      <td>0.000000e+00</td>\n",
              "      <td>1.998668</td>\n",
              "      <td>60.0</td>\n",
              "      <td>0.000000e+00</td>\n",
              "      <td>1.999556</td>\n",
              "      <td>60.0</td>\n",
              "      <td>4.547474e-13</td>\n",
              "      <td>1.999956</td>\n",
              "      <td>60.0</td>\n",
              "      <td>0.000000e+00</td>\n",
              "      <td>1.999996</td>\n",
              "      <td>60.0</td>\n",
              "      <td>0.000000e+00</td>\n",
              "      <td>1.0</td>\n",
              "      <td>60.0</td>\n",
              "      <td>0.0</td>\n",
              "      <td>60.0</td>\n",
              "      <td>0.0</td>\n",
              "      <td>0.0</td>\n",
              "      <td>0.0</td>\n",
              "      <td>1.0</td>\n",
              "      <td>60.0</td>\n",
              "      <td>0.0</td>\n",
              "      <td>...</td>\n",
              "      <td>0.0</td>\n",
              "      <td>1.0</td>\n",
              "      <td>1.507656e+09</td>\n",
              "      <td>0.0</td>\n",
              "      <td>1.0</td>\n",
              "      <td>60.0</td>\n",
              "      <td>0.0</td>\n",
              "      <td>60.0</td>\n",
              "      <td>0.0</td>\n",
              "      <td>0.0</td>\n",
              "      <td>0.0</td>\n",
              "      <td>1.0</td>\n",
              "      <td>60.0</td>\n",
              "      <td>0.0</td>\n",
              "      <td>60.0</td>\n",
              "      <td>0.0</td>\n",
              "      <td>0.0</td>\n",
              "      <td>0.0</td>\n",
              "      <td>1.0</td>\n",
              "      <td>60.0</td>\n",
              "      <td>0.0</td>\n",
              "      <td>60.0</td>\n",
              "      <td>0.0</td>\n",
              "      <td>0.0</td>\n",
              "      <td>0.0</td>\n",
              "      <td>1.0</td>\n",
              "      <td>60.0</td>\n",
              "      <td>0.0</td>\n",
              "      <td>60.0</td>\n",
              "      <td>0.0</td>\n",
              "      <td>0.0</td>\n",
              "      <td>0.0</td>\n",
              "      <td>1.0</td>\n",
              "      <td>60.0</td>\n",
              "      <td>0.0</td>\n",
              "      <td>60.0</td>\n",
              "      <td>0.0</td>\n",
              "      <td>0.0</td>\n",
              "      <td>0.0</td>\n",
              "      <td>1</td>\n",
              "    </tr>\n",
              "    <tr>\n",
              "      <th>2</th>\n",
              "      <td>2.997774</td>\n",
              "      <td>60.0</td>\n",
              "      <td>1.364242e-12</td>\n",
              "      <td>2.998664</td>\n",
              "      <td>60.0</td>\n",
              "      <td>4.547474e-13</td>\n",
              "      <td>2.999554</td>\n",
              "      <td>60.0</td>\n",
              "      <td>0.000000e+00</td>\n",
              "      <td>2.999955</td>\n",
              "      <td>60.0</td>\n",
              "      <td>4.547474e-13</td>\n",
              "      <td>2.999996</td>\n",
              "      <td>60.0</td>\n",
              "      <td>9.094947e-13</td>\n",
              "      <td>2.997774</td>\n",
              "      <td>60.0</td>\n",
              "      <td>1.364242e-12</td>\n",
              "      <td>2.998664</td>\n",
              "      <td>60.0</td>\n",
              "      <td>4.547474e-13</td>\n",
              "      <td>2.999554</td>\n",
              "      <td>60.0</td>\n",
              "      <td>0.000000e+00</td>\n",
              "      <td>2.999955</td>\n",
              "      <td>60.0</td>\n",
              "      <td>4.547474e-13</td>\n",
              "      <td>2.999996</td>\n",
              "      <td>60.0</td>\n",
              "      <td>9.094947e-13</td>\n",
              "      <td>1.0</td>\n",
              "      <td>60.0</td>\n",
              "      <td>0.0</td>\n",
              "      <td>60.0</td>\n",
              "      <td>0.0</td>\n",
              "      <td>0.0</td>\n",
              "      <td>0.0</td>\n",
              "      <td>1.0</td>\n",
              "      <td>60.0</td>\n",
              "      <td>0.0</td>\n",
              "      <td>...</td>\n",
              "      <td>0.0</td>\n",
              "      <td>1.0</td>\n",
              "      <td>1.507656e+09</td>\n",
              "      <td>0.0</td>\n",
              "      <td>1.0</td>\n",
              "      <td>60.0</td>\n",
              "      <td>0.0</td>\n",
              "      <td>60.0</td>\n",
              "      <td>0.0</td>\n",
              "      <td>0.0</td>\n",
              "      <td>0.0</td>\n",
              "      <td>1.0</td>\n",
              "      <td>60.0</td>\n",
              "      <td>0.0</td>\n",
              "      <td>60.0</td>\n",
              "      <td>0.0</td>\n",
              "      <td>0.0</td>\n",
              "      <td>0.0</td>\n",
              "      <td>1.0</td>\n",
              "      <td>60.0</td>\n",
              "      <td>0.0</td>\n",
              "      <td>60.0</td>\n",
              "      <td>0.0</td>\n",
              "      <td>0.0</td>\n",
              "      <td>0.0</td>\n",
              "      <td>1.0</td>\n",
              "      <td>60.0</td>\n",
              "      <td>0.0</td>\n",
              "      <td>60.0</td>\n",
              "      <td>0.0</td>\n",
              "      <td>0.0</td>\n",
              "      <td>0.0</td>\n",
              "      <td>1.0</td>\n",
              "      <td>60.0</td>\n",
              "      <td>0.0</td>\n",
              "      <td>60.0</td>\n",
              "      <td>0.0</td>\n",
              "      <td>0.0</td>\n",
              "      <td>0.0</td>\n",
              "      <td>1</td>\n",
              "    </tr>\n",
              "    <tr>\n",
              "      <th>3</th>\n",
              "      <td>3.997774</td>\n",
              "      <td>60.0</td>\n",
              "      <td>4.547474e-13</td>\n",
              "      <td>3.998664</td>\n",
              "      <td>60.0</td>\n",
              "      <td>9.094947e-13</td>\n",
              "      <td>3.999554</td>\n",
              "      <td>60.0</td>\n",
              "      <td>0.000000e+00</td>\n",
              "      <td>3.999955</td>\n",
              "      <td>60.0</td>\n",
              "      <td>4.547474e-13</td>\n",
              "      <td>3.999996</td>\n",
              "      <td>60.0</td>\n",
              "      <td>4.547474e-13</td>\n",
              "      <td>3.997774</td>\n",
              "      <td>60.0</td>\n",
              "      <td>4.547474e-13</td>\n",
              "      <td>3.998664</td>\n",
              "      <td>60.0</td>\n",
              "      <td>9.094947e-13</td>\n",
              "      <td>3.999554</td>\n",
              "      <td>60.0</td>\n",
              "      <td>0.000000e+00</td>\n",
              "      <td>3.999955</td>\n",
              "      <td>60.0</td>\n",
              "      <td>4.547474e-13</td>\n",
              "      <td>3.999996</td>\n",
              "      <td>60.0</td>\n",
              "      <td>4.547474e-13</td>\n",
              "      <td>1.0</td>\n",
              "      <td>60.0</td>\n",
              "      <td>0.0</td>\n",
              "      <td>60.0</td>\n",
              "      <td>0.0</td>\n",
              "      <td>0.0</td>\n",
              "      <td>0.0</td>\n",
              "      <td>1.0</td>\n",
              "      <td>60.0</td>\n",
              "      <td>0.0</td>\n",
              "      <td>...</td>\n",
              "      <td>0.0</td>\n",
              "      <td>1.0</td>\n",
              "      <td>1.507656e+09</td>\n",
              "      <td>0.0</td>\n",
              "      <td>1.0</td>\n",
              "      <td>60.0</td>\n",
              "      <td>0.0</td>\n",
              "      <td>60.0</td>\n",
              "      <td>0.0</td>\n",
              "      <td>0.0</td>\n",
              "      <td>0.0</td>\n",
              "      <td>1.0</td>\n",
              "      <td>60.0</td>\n",
              "      <td>0.0</td>\n",
              "      <td>60.0</td>\n",
              "      <td>0.0</td>\n",
              "      <td>0.0</td>\n",
              "      <td>0.0</td>\n",
              "      <td>1.0</td>\n",
              "      <td>60.0</td>\n",
              "      <td>0.0</td>\n",
              "      <td>60.0</td>\n",
              "      <td>0.0</td>\n",
              "      <td>0.0</td>\n",
              "      <td>0.0</td>\n",
              "      <td>1.0</td>\n",
              "      <td>60.0</td>\n",
              "      <td>0.0</td>\n",
              "      <td>60.0</td>\n",
              "      <td>0.0</td>\n",
              "      <td>0.0</td>\n",
              "      <td>0.0</td>\n",
              "      <td>1.0</td>\n",
              "      <td>60.0</td>\n",
              "      <td>0.0</td>\n",
              "      <td>60.0</td>\n",
              "      <td>0.0</td>\n",
              "      <td>0.0</td>\n",
              "      <td>0.0</td>\n",
              "      <td>1</td>\n",
              "    </tr>\n",
              "    <tr>\n",
              "      <th>4</th>\n",
              "      <td>4.997774</td>\n",
              "      <td>60.0</td>\n",
              "      <td>4.547474e-13</td>\n",
              "      <td>4.998664</td>\n",
              "      <td>60.0</td>\n",
              "      <td>4.547474e-13</td>\n",
              "      <td>4.999554</td>\n",
              "      <td>60.0</td>\n",
              "      <td>4.547474e-13</td>\n",
              "      <td>4.999955</td>\n",
              "      <td>60.0</td>\n",
              "      <td>1.364242e-12</td>\n",
              "      <td>4.999996</td>\n",
              "      <td>60.0</td>\n",
              "      <td>4.547474e-13</td>\n",
              "      <td>4.997774</td>\n",
              "      <td>60.0</td>\n",
              "      <td>4.547474e-13</td>\n",
              "      <td>4.998664</td>\n",
              "      <td>60.0</td>\n",
              "      <td>4.547474e-13</td>\n",
              "      <td>4.999554</td>\n",
              "      <td>60.0</td>\n",
              "      <td>4.547474e-13</td>\n",
              "      <td>4.999955</td>\n",
              "      <td>60.0</td>\n",
              "      <td>1.364242e-12</td>\n",
              "      <td>4.999996</td>\n",
              "      <td>60.0</td>\n",
              "      <td>4.547474e-13</td>\n",
              "      <td>1.0</td>\n",
              "      <td>60.0</td>\n",
              "      <td>0.0</td>\n",
              "      <td>60.0</td>\n",
              "      <td>0.0</td>\n",
              "      <td>0.0</td>\n",
              "      <td>0.0</td>\n",
              "      <td>1.0</td>\n",
              "      <td>60.0</td>\n",
              "      <td>0.0</td>\n",
              "      <td>...</td>\n",
              "      <td>0.0</td>\n",
              "      <td>1.0</td>\n",
              "      <td>1.507656e+09</td>\n",
              "      <td>0.0</td>\n",
              "      <td>1.0</td>\n",
              "      <td>60.0</td>\n",
              "      <td>0.0</td>\n",
              "      <td>60.0</td>\n",
              "      <td>0.0</td>\n",
              "      <td>0.0</td>\n",
              "      <td>0.0</td>\n",
              "      <td>1.0</td>\n",
              "      <td>60.0</td>\n",
              "      <td>0.0</td>\n",
              "      <td>60.0</td>\n",
              "      <td>0.0</td>\n",
              "      <td>0.0</td>\n",
              "      <td>0.0</td>\n",
              "      <td>1.0</td>\n",
              "      <td>60.0</td>\n",
              "      <td>0.0</td>\n",
              "      <td>60.0</td>\n",
              "      <td>0.0</td>\n",
              "      <td>0.0</td>\n",
              "      <td>0.0</td>\n",
              "      <td>1.0</td>\n",
              "      <td>60.0</td>\n",
              "      <td>0.0</td>\n",
              "      <td>60.0</td>\n",
              "      <td>0.0</td>\n",
              "      <td>0.0</td>\n",
              "      <td>0.0</td>\n",
              "      <td>1.0</td>\n",
              "      <td>60.0</td>\n",
              "      <td>0.0</td>\n",
              "      <td>60.0</td>\n",
              "      <td>0.0</td>\n",
              "      <td>0.0</td>\n",
              "      <td>0.0</td>\n",
              "      <td>1</td>\n",
              "    </tr>\n",
              "  </tbody>\n",
              "</table>\n",
              "<p>5 rows × 116 columns</p>\n",
              "</div>"
            ],
            "text/plain": [
              "   MI_dir_L5_weight  MI_dir_L5_mean  ...  HpHp_L0.01_pcc  Class\n",
              "0          1.000000            60.0  ...             0.0      1\n",
              "1          1.997781            60.0  ...             0.0      1\n",
              "2          2.997774            60.0  ...             0.0      1\n",
              "3          3.997774            60.0  ...             0.0      1\n",
              "4          4.997774            60.0  ...             0.0      1\n",
              "\n",
              "[5 rows x 116 columns]"
            ]
          },
          "metadata": {
            "tags": []
          },
          "execution_count": 5
        }
      ]
    },
    {
      "cell_type": "code",
      "metadata": {
        "colab": {
          "base_uri": "https://localhost:8080/"
        },
        "id": "g7VJyyh_ImdL",
        "outputId": "153de23f-bfc9-40d8-fc22-d5274e5ed03d"
      },
      "source": [
        "neg = len(benign_traffic['Class'])\n",
        "pos = len(udp_attack_traffic['Class'])\n",
        "total = neg + pos\n",
        "print('Examples:\\n    Total: {}\\n    Positive: {} ({:.2f}% of total)\\n'.format(\n",
        "    total, pos, 100 * pos / total))\n"
      ],
      "execution_count": 6,
      "outputs": [
        {
          "output_type": "stream",
          "text": [
            "Examples:\n",
            "    Total: 287213\n",
            "    Positive: 237665 (82.75% of total)\n",
            "\n"
          ],
          "name": "stdout"
        }
      ]
    },
    {
      "cell_type": "code",
      "metadata": {
        "id": "MXRv5NB3TUmH"
      },
      "source": [
        "# Use a utility from sklearn to split and shuffle our dataset.\n",
        "concat_data = pd.concat([benign_traffic,udp_attack_traffic])\n",
        "train_df, test_df = train_test_split(concat_data, test_size=0.2)\n",
        "train_df, val_df = train_test_split(train_df, test_size=0.2)\n",
        "\n",
        "# Form np arrays of labels and features.\n",
        "train_labels = np.array(train_df.pop('Class'))\n",
        "val_labels = np.array(val_df.pop('Class'))\n",
        "test_labels = np.array(test_df.pop('Class'))\n",
        "\n",
        "train_features = np.array(train_df)\n",
        "val_features = np.array(val_df)\n",
        "test_features = np.array(test_df)"
      ],
      "execution_count": 8,
      "outputs": []
    },
    {
      "cell_type": "code",
      "metadata": {
        "colab": {
          "base_uri": "https://localhost:8080/"
        },
        "id": "9XT5ZwIVVxGf",
        "outputId": "43520cef-8e07-44af-85c5-c04eb6ca0228"
      },
      "source": [
        "scaler = StandardScaler()\n",
        "train_features = scaler.fit_transform(train_features)\n",
        "\n",
        "val_features = scaler.transform(val_features)\n",
        "test_features = scaler.transform(test_features)\n",
        "\n",
        "print('Training labels shape:', train_labels.shape)\n",
        "print('Validation labels shape:', val_labels.shape)\n",
        "print('Test labels shape:', test_labels.shape)\n",
        "\n",
        "print('Training features shape:', train_features.shape)\n",
        "print('Validation features shape:', val_features.shape)\n",
        "print('Test features shape:', test_features.shape)"
      ],
      "execution_count": 9,
      "outputs": [
        {
          "output_type": "stream",
          "text": [
            "Training labels shape: (183816,)\n",
            "Validation labels shape: (45954,)\n",
            "Test labels shape: (57443,)\n",
            "Training features shape: (183816, 115)\n",
            "Validation features shape: (45954, 115)\n",
            "Test features shape: (57443, 115)\n"
          ],
          "name": "stdout"
        }
      ]
    },
    {
      "cell_type": "code",
      "metadata": {
        "id": "et4yUmXGWrYq"
      },
      "source": [
        "METRICS = [\n",
        "      keras.metrics.TruePositives(name='tp'),\n",
        "      keras.metrics.FalsePositives(name='fp'),\n",
        "      keras.metrics.TrueNegatives(name='tn'),\n",
        "      keras.metrics.FalseNegatives(name='fn'), \n",
        "      keras.metrics.BinaryAccuracy(name='accuracy'),\n",
        "      keras.metrics.Precision(name='precision'),\n",
        "      keras.metrics.Recall(name='recall'),\n",
        "      keras.metrics.AUC(name='auc'),\n",
        "      keras.metrics.AUC(name='prc', curve='PR'), # precision-recall curve\n",
        "]\n",
        "\n",
        "def make_model(metrics=METRICS, output_bias=None):\n",
        "  if output_bias is not None:\n",
        "    output_bias = tf.keras.initializers.Constant(output_bias)\n",
        "  model = keras.Sequential([\n",
        "      keras.layers.Dense(\n",
        "          16, activation='relu',\n",
        "          input_shape=(train_features.shape[-1],)),\n",
        "      keras.layers.Dropout(0.5),\n",
        "      keras.layers.Dense(1, activation='sigmoid',\n",
        "                         bias_initializer=output_bias),\n",
        "  ])\n",
        "\n",
        "  model.compile(\n",
        "      optimizer=keras.optimizers.Adam(lr=1e-3),\n",
        "      loss=keras.losses.BinaryCrossentropy(),\n",
        "      metrics=metrics)\n",
        "\n",
        "  return model"
      ],
      "execution_count": 10,
      "outputs": []
    },
    {
      "cell_type": "code",
      "metadata": {
        "id": "kwseNzIvYHKq"
      },
      "source": [
        "EPOCHS = 100\n",
        "BATCH_SIZE = 2048\n",
        "\n",
        "early_stopping = tf.keras.callbacks.EarlyStopping(\n",
        "    monitor='val_prc', \n",
        "    verbose=1,\n",
        "    patience=10,\n",
        "    mode='max',\n",
        "    restore_best_weights=True)"
      ],
      "execution_count": 11,
      "outputs": []
    },
    {
      "cell_type": "code",
      "metadata": {
        "id": "FyhFU7Q9YRpC"
      },
      "source": [
        "initial_bias = np.log([pos/neg])"
      ],
      "execution_count": 12,
      "outputs": []
    },
    {
      "cell_type": "code",
      "metadata": {
        "colab": {
          "base_uri": "https://localhost:8080/"
        },
        "id": "HucuaBzZYv4y",
        "outputId": "cc0d3f51-3c0d-44fa-929a-c674ccf5bb0f"
      },
      "source": [
        "model = make_model(output_bias=initial_bias)\n",
        "model.summary()"
      ],
      "execution_count": 14,
      "outputs": [
        {
          "output_type": "stream",
          "text": [
            "Model: \"sequential_1\"\n",
            "_________________________________________________________________\n",
            "Layer (type)                 Output Shape              Param #   \n",
            "=================================================================\n",
            "dense_2 (Dense)              (None, 16)                1856      \n",
            "_________________________________________________________________\n",
            "dropout_1 (Dropout)          (None, 16)                0         \n",
            "_________________________________________________________________\n",
            "dense_3 (Dense)              (None, 1)                 17        \n",
            "=================================================================\n",
            "Total params: 1,873\n",
            "Trainable params: 1,873\n",
            "Non-trainable params: 0\n",
            "_________________________________________________________________\n"
          ],
          "name": "stdout"
        }
      ]
    },
    {
      "cell_type": "code",
      "metadata": {
        "colab": {
          "base_uri": "https://localhost:8080/"
        },
        "id": "ZYQYysaCZDHk",
        "outputId": "e4231185-b509-492f-f809-ea1bdea9fe81"
      },
      "source": [
        "model.predict(train_features[:10])"
      ],
      "execution_count": 15,
      "outputs": [
        {
          "output_type": "execute_result",
          "data": {
            "text/plain": [
              "array([[0.647158  ],\n",
              "       [0.6236247 ],\n",
              "       [0.937286  ],\n",
              "       [0.93064153],\n",
              "       [0.65999603],\n",
              "       [0.8340179 ],\n",
              "       [0.94303894],\n",
              "       [0.7145177 ],\n",
              "       [0.91096336],\n",
              "       [0.9284991 ]], dtype=float32)"
            ]
          },
          "metadata": {
            "tags": []
          },
          "execution_count": 15
        }
      ]
    },
    {
      "cell_type": "code",
      "metadata": {
        "colab": {
          "base_uri": "https://localhost:8080/"
        },
        "id": "xrZe93OnRCC1",
        "outputId": "1498f7a1-5965-45ff-b819-f8b1822ebae9"
      },
      "source": [
        "train_labels[:10]"
      ],
      "execution_count": 44,
      "outputs": [
        {
          "output_type": "execute_result",
          "data": {
            "text/plain": [
              "array([1, 1, 1, 1, 1, 0, 1, 1, 1, 1])"
            ]
          },
          "metadata": {
            "tags": []
          },
          "execution_count": 44
        }
      ]
    },
    {
      "cell_type": "code",
      "metadata": {
        "colab": {
          "base_uri": "https://localhost:8080/"
        },
        "id": "-Z1I_tFRZc8T",
        "outputId": "daf863d0-847f-47fb-b917-6ec2d37d28e1"
      },
      "source": [
        "results = model.evaluate(train_features, train_labels, batch_size=BATCH_SIZE, verbose=0)\n",
        "print(\"Loss: {:0.4f}\".format(results[0]))"
      ],
      "execution_count": 16,
      "outputs": [
        {
          "output_type": "stream",
          "text": [
            "Loss: 0.4826\n"
          ],
          "name": "stdout"
        }
      ]
    },
    {
      "cell_type": "code",
      "metadata": {
        "id": "iKF6C8rkZhis"
      },
      "source": [
        "initial_weights = os.path.join(tempfile.mkdtemp(), 'initial_weights')\n",
        "model.save_weights(initial_weights)"
      ],
      "execution_count": 18,
      "outputs": []
    },
    {
      "cell_type": "markdown",
      "metadata": {
        "id": "cOStf_BaSCXH"
      },
      "source": [
        "**Preprocessing imbalanced dataset using class weighting**"
      ]
    },
    {
      "cell_type": "code",
      "metadata": {
        "colab": {
          "base_uri": "https://localhost:8080/"
        },
        "id": "-27PfyhbZ2wT",
        "outputId": "b96b17c7-41f5-4b88-8996-590085d0879c"
      },
      "source": [
        "# Scaling by total/2 helps keep the loss to a similar magnitude.\n",
        "# The sum of the weights of all examples stays the same.\n",
        "weight_for_0 = (1 / neg)*(total)/2.0 \n",
        "weight_for_1 = (1 / pos)*(total)/2.0\n",
        "\n",
        "class_weight = {0: weight_for_0, 1: weight_for_1}\n",
        "\n",
        "print('Weight for class 0: {:.2f}'.format(weight_for_0))\n",
        "print('Weight for class 1: {:.2f}'.format(weight_for_1))"
      ],
      "execution_count": 20,
      "outputs": [
        {
          "output_type": "stream",
          "text": [
            "Weight for class 0: 2.90\n",
            "Weight for class 1: 0.60\n"
          ],
          "name": "stdout"
        }
      ]
    },
    {
      "cell_type": "code",
      "metadata": {
        "colab": {
          "base_uri": "https://localhost:8080/"
        },
        "id": "7RYnv88AbV0X",
        "outputId": "984038b3-1cf2-46a3-f0f8-eb3ce37c6654"
      },
      "source": [
        "weighted_model = make_model()\n",
        "weighted_model.load_weights(initial_weights)\n",
        "\n",
        "weighted_history = weighted_model.fit(\n",
        "    train_features,\n",
        "    train_labels,\n",
        "    batch_size=BATCH_SIZE,\n",
        "    epochs=EPOCHS,\n",
        "    callbacks=[early_stopping],\n",
        "    validation_data=(val_features, val_labels),\n",
        "    # The class weights go here\n",
        "    class_weight=class_weight)"
      ],
      "execution_count": 21,
      "outputs": [
        {
          "output_type": "stream",
          "text": [
            "Epoch 1/100\n",
            "90/90 [==============================] - 5s 26ms/step - loss: 0.4312 - tp: 228234.3516 - fp: 34425.7692 - tn: 13496.5385 - fn: 1833.7582 - accuracy: 0.8652 - precision: 0.8654 - recall: 0.9922 - auc: 0.7450 - prc: 0.9329 - val_loss: 0.0236 - val_tp: 38116.0000 - val_fp: 3.0000 - val_tn: 7832.0000 - val_fn: 3.0000 - val_accuracy: 0.9999 - val_precision: 0.9999 - val_recall: 0.9999 - val_auc: 0.9999 - val_prc: 1.0000\n",
            "Epoch 2/100\n",
            "90/90 [==============================] - 1s 12ms/step - loss: 0.0477 - tp: 77967.9670 - fp: 227.2857 - tn: 15962.3736 - fn: 16.7912 - accuracy: 0.9972 - precision: 0.9968 - recall: 0.9998 - auc: 0.9991 - prc: 0.9997 - val_loss: 0.0096 - val_tp: 38116.0000 - val_fp: 0.0000e+00 - val_tn: 7835.0000 - val_fn: 3.0000 - val_accuracy: 0.9999 - val_precision: 1.0000 - val_recall: 0.9999 - val_auc: 1.0000 - val_prc: 1.0000\n",
            "Epoch 3/100\n",
            "90/90 [==============================] - 1s 11ms/step - loss: 0.0312 - tp: 77846.2418 - fp: 157.6813 - tn: 16158.8681 - fn: 11.6264 - accuracy: 0.9982 - precision: 0.9979 - recall: 0.9999 - auc: 0.9995 - prc: 0.9998 - val_loss: 0.0052 - val_tp: 38116.0000 - val_fp: 0.0000e+00 - val_tn: 7835.0000 - val_fn: 3.0000 - val_accuracy: 0.9999 - val_precision: 1.0000 - val_recall: 0.9999 - val_auc: 1.0000 - val_prc: 1.0000\n",
            "Epoch 4/100\n",
            "90/90 [==============================] - 1s 11ms/step - loss: 0.0236 - tp: 77952.2308 - fp: 129.5495 - tn: 16078.7802 - fn: 13.8571 - accuracy: 0.9985 - precision: 0.9984 - recall: 0.9998 - auc: 0.9997 - prc: 0.9999 - val_loss: 0.0032 - val_tp: 38116.0000 - val_fp: 0.0000e+00 - val_tn: 7835.0000 - val_fn: 3.0000 - val_accuracy: 0.9999 - val_precision: 1.0000 - val_recall: 0.9999 - val_auc: 1.0000 - val_prc: 1.0000\n",
            "Epoch 5/100\n",
            "90/90 [==============================] - 1s 11ms/step - loss: 0.0220 - tp: 77896.4945 - fp: 137.6703 - tn: 16126.3736 - fn: 13.8791 - accuracy: 0.9984 - precision: 0.9982 - recall: 0.9998 - auc: 0.9998 - prc: 0.9999 - val_loss: 0.0022 - val_tp: 38116.0000 - val_fp: 0.0000e+00 - val_tn: 7835.0000 - val_fn: 3.0000 - val_accuracy: 0.9999 - val_precision: 1.0000 - val_recall: 0.9999 - val_auc: 1.0000 - val_prc: 1.0000\n",
            "Epoch 6/100\n",
            "90/90 [==============================] - 1s 12ms/step - loss: 0.0191 - tp: 77966.2637 - fp: 145.9011 - tn: 16046.7473 - fn: 15.5055 - accuracy: 0.9983 - precision: 0.9982 - recall: 0.9998 - auc: 0.9998 - prc: 1.0000 - val_loss: 0.0017 - val_tp: 38116.0000 - val_fp: 0.0000e+00 - val_tn: 7835.0000 - val_fn: 3.0000 - val_accuracy: 0.9999 - val_precision: 1.0000 - val_recall: 0.9999 - val_auc: 1.0000 - val_prc: 1.0000\n",
            "Epoch 7/100\n",
            "90/90 [==============================] - 1s 12ms/step - loss: 0.0170 - tp: 78024.3077 - fp: 124.0330 - tn: 16013.2857 - fn: 12.7912 - accuracy: 0.9985 - precision: 0.9984 - recall: 0.9998 - auc: 0.9998 - prc: 1.0000 - val_loss: 0.0014 - val_tp: 38116.0000 - val_fp: 0.0000e+00 - val_tn: 7835.0000 - val_fn: 3.0000 - val_accuracy: 0.9999 - val_precision: 1.0000 - val_recall: 0.9999 - val_auc: 1.0000 - val_prc: 1.0000\n",
            "Epoch 8/100\n",
            "90/90 [==============================] - 1s 12ms/step - loss: 0.0153 - tp: 78023.6593 - fp: 120.0000 - tn: 16020.3297 - fn: 10.4286 - accuracy: 0.9986 - precision: 0.9985 - recall: 0.9999 - auc: 0.9999 - prc: 1.0000 - val_loss: 0.0012 - val_tp: 38116.0000 - val_fp: 0.0000e+00 - val_tn: 7835.0000 - val_fn: 3.0000 - val_accuracy: 0.9999 - val_precision: 1.0000 - val_recall: 0.9999 - val_auc: 1.0000 - val_prc: 1.0000\n",
            "Epoch 9/100\n",
            "90/90 [==============================] - 1s 11ms/step - loss: 0.0148 - tp: 77926.2527 - fp: 116.1648 - tn: 16122.7802 - fn: 9.2198 - accuracy: 0.9987 - precision: 0.9985 - recall: 0.9999 - auc: 0.9998 - prc: 0.9999 - val_loss: 0.0010 - val_tp: 38116.0000 - val_fp: 0.0000e+00 - val_tn: 7835.0000 - val_fn: 3.0000 - val_accuracy: 0.9999 - val_precision: 1.0000 - val_recall: 0.9999 - val_auc: 1.0000 - val_prc: 1.0000\n",
            "Epoch 10/100\n",
            "90/90 [==============================] - 1s 12ms/step - loss: 0.0140 - tp: 77900.2527 - fp: 125.7363 - tn: 16133.5165 - fn: 14.9121 - accuracy: 0.9985 - precision: 0.9984 - recall: 0.9998 - auc: 0.9999 - prc: 1.0000 - val_loss: 9.5465e-04 - val_tp: 38117.0000 - val_fp: 0.0000e+00 - val_tn: 7835.0000 - val_fn: 2.0000 - val_accuracy: 1.0000 - val_precision: 1.0000 - val_recall: 0.9999 - val_auc: 1.0000 - val_prc: 1.0000\n",
            "Epoch 11/100\n",
            "90/90 [==============================] - 1s 11ms/step - loss: 0.0137 - tp: 77943.6374 - fp: 128.1429 - tn: 16097.1099 - fn: 5.5275 - accuracy: 0.9986 - precision: 0.9983 - recall: 0.9999 - auc: 0.9998 - prc: 1.0000 - val_loss: 8.9445e-04 - val_tp: 38117.0000 - val_fp: 0.0000e+00 - val_tn: 7835.0000 - val_fn: 2.0000 - val_accuracy: 1.0000 - val_precision: 1.0000 - val_recall: 0.9999 - val_auc: 1.0000 - val_prc: 1.0000\n",
            "Epoch 12/100\n",
            "90/90 [==============================] - 1s 12ms/step - loss: 0.0132 - tp: 77997.9121 - fp: 128.8571 - tn: 16033.8791 - fn: 13.7692 - accuracy: 0.9985 - precision: 0.9984 - recall: 0.9998 - auc: 0.9999 - prc: 1.0000 - val_loss: 8.5315e-04 - val_tp: 38117.0000 - val_fp: 0.0000e+00 - val_tn: 7835.0000 - val_fn: 2.0000 - val_accuracy: 1.0000 - val_precision: 1.0000 - val_recall: 0.9999 - val_auc: 1.0000 - val_prc: 1.0000\n",
            "Epoch 13/100\n",
            "90/90 [==============================] - 1s 11ms/step - loss: 0.0133 - tp: 77859.4176 - fp: 123.1319 - tn: 16180.6264 - fn: 11.2418 - accuracy: 0.9985 - precision: 0.9984 - recall: 0.9998 - auc: 0.9999 - prc: 1.0000 - val_loss: 8.2524e-04 - val_tp: 38117.0000 - val_fp: 0.0000e+00 - val_tn: 7835.0000 - val_fn: 2.0000 - val_accuracy: 1.0000 - val_precision: 1.0000 - val_recall: 0.9999 - val_auc: 1.0000 - val_prc: 1.0000\n",
            "Epoch 14/100\n",
            "90/90 [==============================] - 1s 12ms/step - loss: 0.0132 - tp: 77906.8791 - fp: 140.1209 - tn: 16119.7912 - fn: 7.6264 - accuracy: 0.9984 - precision: 0.9982 - recall: 0.9999 - auc: 0.9999 - prc: 1.0000 - val_loss: 8.0757e-04 - val_tp: 38117.0000 - val_fp: 0.0000e+00 - val_tn: 7835.0000 - val_fn: 2.0000 - val_accuracy: 1.0000 - val_precision: 1.0000 - val_recall: 0.9999 - val_auc: 1.0000 - val_prc: 1.0000\n",
            "Epoch 15/100\n",
            "90/90 [==============================] - 1s 11ms/step - loss: 0.0122 - tp: 77917.5714 - fp: 132.3956 - tn: 16117.6923 - fn: 6.7582 - accuracy: 0.9985 - precision: 0.9983 - recall: 0.9999 - auc: 0.9999 - prc: 1.0000 - val_loss: 7.9362e-04 - val_tp: 38117.0000 - val_fp: 0.0000e+00 - val_tn: 7835.0000 - val_fn: 2.0000 - val_accuracy: 1.0000 - val_precision: 1.0000 - val_recall: 0.9999 - val_auc: 1.0000 - val_prc: 1.0000\n",
            "Restoring model weights from the end of the best epoch.\n",
            "Epoch 00015: early stopping\n"
          ],
          "name": "stdout"
        }
      ]
    },
    {
      "cell_type": "code",
      "metadata": {
        "id": "rpfS8wr0bqBi"
      },
      "source": [
        "def plot_metrics(history):\n",
        "  metrics = ['loss', 'prc', 'precision', 'recall']\n",
        "  for n, metric in enumerate(metrics):\n",
        "    name = metric.replace(\"_\",\" \").capitalize()\n",
        "    plt.subplot(2,2,n+1)\n",
        "    plt.plot(history.epoch, history.history[metric], color=colors[0], label='Train')\n",
        "    plt.plot(history.epoch, history.history['val_'+metric],\n",
        "             color=colors[0], linestyle=\"--\", label='Val')\n",
        "    plt.xlabel('Epoch')\n",
        "    plt.ylabel(name)\n",
        "    if metric == 'loss':\n",
        "      plt.ylim([0, plt.ylim()[1]])\n",
        "    elif metric == 'recall':\n",
        "      plt.ylim([0,1.01])\n",
        "    elif metric == 'prc':\n",
        "      plt.ylim([0,1.01])\n",
        "    else:\n",
        "      plt.ylim([0,1.01])\n",
        "\n",
        "    plt.legend()"
      ],
      "execution_count": 30,
      "outputs": []
    },
    {
      "cell_type": "code",
      "metadata": {
        "colab": {
          "base_uri": "https://localhost:8080/",
          "height": 607
        },
        "id": "3Fl690x3b73r",
        "outputId": "86a237d7-644f-44f3-dc27-4f3bbd1bae97"
      },
      "source": [
        "plot_metrics(weighted_history)"
      ],
      "execution_count": 31,
      "outputs": [
        {
          "output_type": "display_data",
          "data": {
            "image/png": "[encoded data removed]",
            "text/plain": [
              "<Figure size 864x720 with 4 Axes>"
            ]
          },
          "metadata": {
            "tags": [],
            "needs_background": "light"
          }
        }
      ]
    },
    {
      "cell_type": "code",
      "metadata": {
        "id": "YbuOtPGOcW_9"
      },
      "source": [
        "train_predictions_weighted = model.predict(train_features, batch_size=BATCH_SIZE)\n",
        "test_predictions_weighted = model.predict(test_features, batch_size=BATCH_SIZE)"
      ],
      "execution_count": 72,
      "outputs": []
    },
    {
      "cell_type": "code",
      "metadata": {
        "id": "jQa7eGSIAMvS"
      },
      "source": [
        "def plot_cm(labels, predictions, p=0.5):\n",
        "  cm = confusion_matrix(labels, predictions > p)\n",
        "  plt.figure(figsize=(5,5))\n",
        "  sns.heatmap(cm, annot=True, fmt=\"d\")\n",
        "  plt.title('Confusion matrix @{:.2f}'.format(p))\n",
        "  plt.ylabel('Actual label')\n",
        "  plt.xlabel('Predicted label')\n",
        "\n",
        "  print('Legitimate Transactions Detected (True Negatives): ', cm[0][0])\n",
        "  print('Legitimate Transactions Incorrectly Detected (False Positives): ', cm[0][1])\n",
        "  print('Fraudulent Transactions Missed (False Negatives): ', cm[1][0])\n",
        "  print('Fraudulent Transactions Detected (True Positives): ', cm[1][1])\n",
        "  print('Total Fraudulent Transactions: ', np.sum(cm[1]))"
      ],
      "execution_count": 73,
      "outputs": []
    },
    {
      "cell_type": "code",
      "metadata": {
        "colab": {
          "base_uri": "https://localhost:8080/",
          "height": 628
        },
        "id": "qlLeQ7XRAbe1",
        "outputId": "14950542-a0a7-4958-daa9-d646755987cc"
      },
      "source": [
        "results = model.evaluate(test_features, test_labels,\n",
        "                                  batch_size=BATCH_SIZE, verbose=0)\n",
        "for name, value in zip(model.metrics_names, results):\n",
        "  print(name, ': ', value)\n",
        "print()\n",
        "\n",
        "plot_cm(test_labels, test_predictions_weighted)"
      ],
      "execution_count": 74,
      "outputs": [
        {
          "output_type": "stream",
          "text": [
            "loss :  0.4891032576560974\n",
            "tp :  47406.0\n",
            "fp :  10004.0\n",
            "tn :  33.0\n",
            "fn :  0.0\n",
            "accuracy :  0.8258447647094727\n",
            "precision :  0.82574462890625\n",
            "recall :  1.0\n",
            "auc :  0.6428132057189941\n",
            "prc :  0.9096006155014038\n",
            "\n",
            "Legitimate Transactions Detected (True Negatives):  33\n",
            "Legitimate Transactions Incorrectly Detected (False Positives):  10004\n",
            "Fraudulent Transactions Missed (False Negatives):  0\n",
            "Fraudulent Transactions Detected (True Positives):  47406\n",
            "Total Fraudulent Transactions:  47406\n"
          ],
          "name": "stdout"
        },
        {
          "output_type": "display_data",
          "data": {
            "image/png": "[encoded data removed]",
            "text/plain": [
              "<Figure size 360x360 with 2 Axes>"
            ]
          },
          "metadata": {
            "tags": [],
            "needs_background": "light"
          }
        }
      ]
    },
    {
      "cell_type": "code",
      "metadata": {
        "id": "QtcFdqZ7CoZ0"
      },
      "source": [
        "def plot_roc(name, labels, predictions, **kwargs):\n",
        "  fp, tp, _ = sklearn.metrics.roc_curve(labels, predictions)\n",
        "\n",
        "  plt.plot(100*fp, 100*tp, label=name, linewidth=2, **kwargs)\n",
        "  plt.xlabel('False positives [%]')\n",
        "  plt.ylabel('True positives [%]')\n",
        "  plt.xlim([-0.5,100.5])\n",
        "  plt.ylim([-0.5,100.5])\n",
        "  plt.grid(True)\n",
        "  ax = plt.gca()\n",
        "  ax.set_aspect('equal')"
      ],
      "execution_count": 39,
      "outputs": []
    },
    {
      "cell_type": "code",
      "metadata": {
        "colab": {
          "base_uri": "https://localhost:8080/",
          "height": 624
        },
        "id": "2VJ0WWeJDlPF",
        "outputId": "b6566495-afd7-4001-eaa6-9c4aeb26096e"
      },
      "source": [
        "plot_roc(\"Train\", train_labels, train_predictions_weighted, color=colors[0])\n",
        "plot_roc(\"Test\", test_labels, test_predictions_weighted, color=colors[0], linestyle='--')\n",
        "plt.legend(loc='lower right')"
      ],
      "execution_count": 75,
      "outputs": [
        {
          "output_type": "execute_result",
          "data": {
            "text/plain": [
              "<matplotlib.legend.Legend at 0x7f8f565031d0>"
            ]
          },
          "metadata": {
            "tags": []
          },
          "execution_count": 75
        },
        {
          "output_type": "display_data",
          "data": {
            "image/png": "[encoded data removed]",
            "text/plain": [
              "<Figure size 864x720 with 1 Axes>"
            ]
          },
          "metadata": {
            "tags": [],
            "needs_background": "light"
          }
        }
      ]
    },
    {
      "cell_type": "code",
      "metadata": {
        "id": "LxbjCpP7EELx"
      },
      "source": [
        "def plot_prc(name, labels, predictions, **kwargs):\n",
        "    precision, recall, _ = sklearn.metrics.precision_recall_curve(labels, predictions)\n",
        "\n",
        "    plt.plot(precision, recall, label=name, linewidth=2, **kwargs)\n",
        "    plt.xlabel('Recall')\n",
        "    plt.ylabel('Precision')\n",
        "    plt.grid(True)\n",
        "    ax = plt.gca()\n",
        "    ax.set_aspect('equal')"
      ],
      "execution_count": 76,
      "outputs": []
    },
    {
      "cell_type": "code",
      "metadata": {
        "colab": {
          "base_uri": "https://localhost:8080/",
          "height": 623
        },
        "id": "dg227xRKEXmG",
        "outputId": "1aecc4cf-99d5-4695-e6b6-3a1a24514877"
      },
      "source": [
        "plot_prc(\"Train\", train_labels, train_predictions_weighted, color=colors[0])\n",
        "plot_prc(\"Test\", test_labels, test_predictions_weighted, color=colors[0], linestyle='--')\n",
        "plt.legend(loc='upper left')"
      ],
      "execution_count": 77,
      "outputs": [
        {
          "output_type": "execute_result",
          "data": {
            "text/plain": [
              "<matplotlib.legend.Legend at 0x7f8f563acf90>"
            ]
          },
          "metadata": {
            "tags": []
          },
          "execution_count": 77
        },
        {
          "output_type": "display_data",
          "data": {
            "image/png": "[encoded data removed]",
            "text/plain": [
              "<Figure size 864x720 with 1 Axes>"
            ]
          },
          "metadata": {
            "tags": [],
            "needs_background": "light"
          }
        }
      ]
    },
    {
      "cell_type": "markdown",
      "metadata": {
        "id": "IqBWrl-oVwN4"
      },
      "source": [
        "**Preprocessing imbalanced dataset using oversampling**"
      ]
    },
    {
      "cell_type": "code",
      "metadata": {
        "id": "-JsLNujAEoKI"
      },
      "source": [
        "bool_train_labels = train_labels != 0\n",
        "pos_features = train_features[bool_train_labels]\n",
        "neg_features = train_features[~bool_train_labels]\n",
        "\n",
        "pos_labels = train_labels[bool_train_labels]\n",
        "neg_labels = train_labels[~bool_train_labels]"
      ],
      "execution_count": 61,
      "outputs": []
    },
    {
      "cell_type": "code",
      "metadata": {
        "id": "SZXCy_CflQwg"
      },
      "source": [
        "BUFFER_SIZE = 100000\n",
        "\n",
        "def make_ds(features, labels):\n",
        "  ds = tf.data.Dataset.from_tensor_slices((features, labels))#.cache()\n",
        "  ds = ds.shuffle(BUFFER_SIZE).repeat()\n",
        "  return ds\n",
        "\n",
        "pos_ds = make_ds(pos_features, pos_labels)\n",
        "neg_ds = make_ds(neg_features, neg_labels)"
      ],
      "execution_count": 63,
      "outputs": []
    },
    {
      "cell_type": "code",
      "metadata": {
        "id": "AKb9GBo3q9HN"
      },
      "source": [
        "resampled_ds = tf.data.experimental.sample_from_datasets([pos_ds, neg_ds], weights=[0.5, 0.5])\n",
        "resampled_ds = resampled_ds.batch(BATCH_SIZE).prefetch(2)"
      ],
      "execution_count": 64,
      "outputs": []
    },
    {
      "cell_type": "code",
      "metadata": {
        "colab": {
          "base_uri": "https://localhost:8080/"
        },
        "id": "gXUs8uYDrLUJ",
        "outputId": "fffe739a-2f28-45bd-ff2e-01fd43445993"
      },
      "source": [
        "resampled_steps_per_epoch = np.ceil(2.0*neg/BATCH_SIZE)\n",
        "resampled_steps_per_epoch"
      ],
      "execution_count": 91,
      "outputs": [
        {
          "output_type": "execute_result",
          "data": {
            "text/plain": [
              "49.0"
            ]
          },
          "metadata": {
            "tags": []
          },
          "execution_count": 91
        }
      ]
    },
    {
      "cell_type": "code",
      "metadata": {
        "colab": {
          "base_uri": "https://localhost:8080/"
        },
        "id": "TZ89ipG2s2oS",
        "outputId": "b3c6339b-86aa-41d9-955a-6a7174c3b2ea"
      },
      "source": [
        "resampled_model = make_model()\n",
        "resampled_model.load_weights(initial_weights)\n",
        "\n",
        "# Reset the bias to zero, since this dataset is balanced.\n",
        "output_layer = resampled_model.layers[-1] \n",
        "output_layer.bias.assign([0])\n",
        "\n",
        "val_ds = tf.data.Dataset.from_tensor_slices((val_features, val_labels)).cache()\n",
        "val_ds = val_ds.batch(BATCH_SIZE).prefetch(2)\n",
        "\n",
        "resampled_history = resampled_model.fit(\n",
        "    resampled_ds,\n",
        "    # These are not real epochs\n",
        "    steps_per_epoch=20,\n",
        "    epochs=10*EPOCHS,\n",
        "    callbacks=[early_stopping],\n",
        "    validation_data=(val_ds))"
      ],
      "execution_count": 92,
      "outputs": [
        {
          "output_type": "stream",
          "text": [
            "Epoch 1/1000\n",
            "20/20 [==============================] - 4s 90ms/step - loss: 0.6809 - tp: 54735.2857 - fp: 2890.5238 - tn: 18433.9048 - fn: 3813.7619 - accuracy: 0.9196 - precision: 0.9510 - recall: 0.9374 - auc: 0.9748 - prc: 0.9870 - val_loss: 0.2341 - val_tp: 37059.0000 - val_fp: 27.0000 - val_tn: 7808.0000 - val_fn: 1060.0000 - val_accuracy: 0.9763 - val_precision: 0.9993 - val_recall: 0.9722 - val_auc: 0.9973 - val_prc: 0.9965\n",
            "Epoch 2/1000\n",
            "20/20 [==============================] - 1s 40ms/step - loss: 0.2370 - tp: 10364.0476 - fp: 561.3333 - tn: 10733.7143 - fn: 771.3810 - accuracy: 0.9340 - precision: 0.9424 - recall: 0.9239 - auc: 0.9829 - prc: 0.9717 - val_loss: 0.1071 - val_tp: 38105.0000 - val_fp: 11.0000 - val_tn: 7824.0000 - val_fn: 14.0000 - val_accuracy: 0.9995 - val_precision: 0.9997 - val_recall: 0.9996 - val_auc: 0.9991 - val_prc: 0.9987\n",
            "Epoch 3/1000\n",
            "20/20 [==============================] - 1s 38ms/step - loss: 0.1351 - tp: 10882.3810 - fp: 208.0000 - tn: 11051.3810 - fn: 288.7143 - accuracy: 0.9764 - precision: 0.9813 - recall: 0.9710 - auc: 0.9968 - prc: 0.9941 - val_loss: 0.0559 - val_tp: 38110.0000 - val_fp: 2.0000 - val_tn: 7833.0000 - val_fn: 9.0000 - val_accuracy: 0.9998 - val_precision: 0.9999 - val_recall: 0.9998 - val_auc: 0.9999 - val_prc: 1.0000\n",
            "Epoch 4/1000\n",
            "20/20 [==============================] - 1s 40ms/step - loss: 0.0890 - tp: 11107.1429 - fp: 187.3810 - tn: 11048.6667 - fn: 87.2857 - accuracy: 0.9872 - precision: 0.9827 - recall: 0.9918 - auc: 0.9981 - prc: 0.9975 - val_loss: 0.0333 - val_tp: 38111.0000 - val_fp: 0.0000e+00 - val_tn: 7835.0000 - val_fn: 8.0000 - val_accuracy: 0.9998 - val_precision: 1.0000 - val_recall: 0.9998 - val_auc: 1.0000 - val_prc: 1.0000\n",
            "Epoch 5/1000\n",
            "20/20 [==============================] - 1s 38ms/step - loss: 0.0747 - tp: 11159.0000 - fp: 130.6190 - tn: 11078.9524 - fn: 61.9048 - accuracy: 0.9908 - precision: 0.9877 - recall: 0.9939 - auc: 0.9988 - prc: 0.9984 - val_loss: 0.0226 - val_tp: 38112.0000 - val_fp: 0.0000e+00 - val_tn: 7835.0000 - val_fn: 7.0000 - val_accuracy: 0.9998 - val_precision: 1.0000 - val_recall: 0.9998 - val_auc: 1.0000 - val_prc: 1.0000\n",
            "Epoch 6/1000\n",
            "20/20 [==============================] - 1s 41ms/step - loss: 0.0623 - tp: 11172.1429 - fp: 98.1905 - tn: 11125.2381 - fn: 34.9048 - accuracy: 0.9939 - precision: 0.9914 - recall: 0.9966 - auc: 0.9991 - prc: 0.9984 - val_loss: 0.0166 - val_tp: 38113.0000 - val_fp: 0.0000e+00 - val_tn: 7835.0000 - val_fn: 6.0000 - val_accuracy: 0.9999 - val_precision: 1.0000 - val_recall: 0.9998 - val_auc: 1.0000 - val_prc: 1.0000\n",
            "Epoch 7/1000\n",
            "20/20 [==============================] - 1s 42ms/step - loss: 0.0528 - tp: 11168.8095 - fp: 95.0000 - tn: 11138.6667 - fn: 28.0000 - accuracy: 0.9948 - precision: 0.9922 - recall: 0.9974 - auc: 0.9995 - prc: 0.9992 - val_loss: 0.0128 - val_tp: 38113.0000 - val_fp: 0.0000e+00 - val_tn: 7835.0000 - val_fn: 6.0000 - val_accuracy: 0.9999 - val_precision: 1.0000 - val_recall: 0.9998 - val_auc: 1.0000 - val_prc: 1.0000\n",
            "Epoch 8/1000\n",
            "20/20 [==============================] - 1s 41ms/step - loss: 0.0470 - tp: 11189.6667 - fp: 109.1429 - tn: 11117.6667 - fn: 14.0000 - accuracy: 0.9946 - precision: 0.9905 - recall: 0.9988 - auc: 0.9994 - prc: 0.9992 - val_loss: 0.0099 - val_tp: 38113.0000 - val_fp: 0.0000e+00 - val_tn: 7835.0000 - val_fn: 6.0000 - val_accuracy: 0.9999 - val_precision: 1.0000 - val_recall: 0.9998 - val_auc: 1.0000 - val_prc: 1.0000\n",
            "Epoch 9/1000\n",
            "20/20 [==============================] - 1s 43ms/step - loss: 0.0425 - tp: 11232.7143 - fp: 91.5238 - tn: 11083.1429 - fn: 23.0952 - accuracy: 0.9949 - precision: 0.9920 - recall: 0.9979 - auc: 0.9994 - prc: 0.9990 - val_loss: 0.0075 - val_tp: 38114.0000 - val_fp: 0.0000e+00 - val_tn: 7835.0000 - val_fn: 5.0000 - val_accuracy: 0.9999 - val_precision: 1.0000 - val_recall: 0.9999 - val_auc: 1.0000 - val_prc: 1.0000\n",
            "Epoch 10/1000\n",
            "20/20 [==============================] - 1s 41ms/step - loss: 0.0391 - tp: 11206.5238 - fp: 89.8095 - tn: 11123.2857 - fn: 10.8571 - accuracy: 0.9956 - precision: 0.9921 - recall: 0.9991 - auc: 0.9995 - prc: 0.9991 - val_loss: 0.0057 - val_tp: 38114.0000 - val_fp: 0.0000e+00 - val_tn: 7835.0000 - val_fn: 5.0000 - val_accuracy: 0.9999 - val_precision: 1.0000 - val_recall: 0.9999 - val_auc: 1.0000 - val_prc: 1.0000\n",
            "Epoch 11/1000\n",
            "20/20 [==============================] - 1s 39ms/step - loss: 0.0342 - tp: 11074.9524 - fp: 87.0000 - tn: 11257.5238 - fn: 11.0000 - accuracy: 0.9956 - precision: 0.9923 - recall: 0.9989 - auc: 0.9996 - prc: 0.9996 - val_loss: 0.0045 - val_tp: 38115.0000 - val_fp: 0.0000e+00 - val_tn: 7835.0000 - val_fn: 4.0000 - val_accuracy: 0.9999 - val_precision: 1.0000 - val_recall: 0.9999 - val_auc: 1.0000 - val_prc: 1.0000\n",
            "Epoch 12/1000\n",
            "20/20 [==============================] - 1s 40ms/step - loss: 0.0321 - tp: 11086.7143 - fp: 93.2857 - tn: 11238.4286 - fn: 12.0476 - accuracy: 0.9952 - precision: 0.9915 - recall: 0.9988 - auc: 0.9997 - prc: 0.9995 - val_loss: 0.0036 - val_tp: 38115.0000 - val_fp: 0.0000e+00 - val_tn: 7835.0000 - val_fn: 4.0000 - val_accuracy: 0.9999 - val_precision: 1.0000 - val_recall: 0.9999 - val_auc: 1.0000 - val_prc: 1.0000\n",
            "Epoch 13/1000\n",
            "20/20 [==============================] - 1s 40ms/step - loss: 0.0285 - tp: 11258.2857 - fp: 81.1429 - tn: 11078.8095 - fn: 12.2381 - accuracy: 0.9961 - precision: 0.9933 - recall: 0.9990 - auc: 0.9998 - prc: 0.9997 - val_loss: 0.0029 - val_tp: 38115.0000 - val_fp: 0.0000e+00 - val_tn: 7835.0000 - val_fn: 4.0000 - val_accuracy: 0.9999 - val_precision: 1.0000 - val_recall: 0.9999 - val_auc: 1.0000 - val_prc: 1.0000\n",
            "Epoch 14/1000\n",
            "20/20 [==============================] - 1s 41ms/step - loss: 0.0272 - tp: 11172.0000 - fp: 92.1429 - tn: 11158.4762 - fn: 7.8571 - accuracy: 0.9954 - precision: 0.9916 - recall: 0.9993 - auc: 0.9997 - prc: 0.9998 - val_loss: 0.0024 - val_tp: 38115.0000 - val_fp: 0.0000e+00 - val_tn: 7835.0000 - val_fn: 4.0000 - val_accuracy: 0.9999 - val_precision: 1.0000 - val_recall: 0.9999 - val_auc: 1.0000 - val_prc: 1.0000\n",
            "Epoch 15/1000\n",
            "20/20 [==============================] - 1s 40ms/step - loss: 0.0267 - tp: 11175.6667 - fp: 101.5238 - tn: 11145.1429 - fn: 8.1429 - accuracy: 0.9950 - precision: 0.9909 - recall: 0.9992 - auc: 0.9997 - prc: 0.9996 - val_loss: 0.0021 - val_tp: 38115.0000 - val_fp: 0.0000e+00 - val_tn: 7835.0000 - val_fn: 4.0000 - val_accuracy: 0.9999 - val_precision: 1.0000 - val_recall: 0.9999 - val_auc: 1.0000 - val_prc: 1.0000\n",
            "Epoch 16/1000\n",
            "20/20 [==============================] - 1s 42ms/step - loss: 0.0248 - tp: 11128.7143 - fp: 88.4286 - tn: 11205.3333 - fn: 8.0000 - accuracy: 0.9957 - precision: 0.9920 - recall: 0.9993 - auc: 0.9998 - prc: 0.9998 - val_loss: 0.0017 - val_tp: 38116.0000 - val_fp: 0.0000e+00 - val_tn: 7835.0000 - val_fn: 3.0000 - val_accuracy: 0.9999 - val_precision: 1.0000 - val_recall: 0.9999 - val_auc: 1.0000 - val_prc: 1.0000\n",
            "Epoch 17/1000\n",
            "20/20 [==============================] - 1s 41ms/step - loss: 0.0231 - tp: 11237.4762 - fp: 94.1429 - tn: 11090.1429 - fn: 8.7143 - accuracy: 0.9952 - precision: 0.9912 - recall: 0.9992 - auc: 0.9998 - prc: 0.9998 - val_loss: 0.0015 - val_tp: 38116.0000 - val_fp: 0.0000e+00 - val_tn: 7835.0000 - val_fn: 3.0000 - val_accuracy: 0.9999 - val_precision: 1.0000 - val_recall: 0.9999 - val_auc: 1.0000 - val_prc: 1.0000\n",
            "Epoch 18/1000\n",
            "20/20 [==============================] - 1s 40ms/step - loss: 0.0221 - tp: 11200.0000 - fp: 87.8095 - tn: 11133.1905 - fn: 9.4762 - accuracy: 0.9958 - precision: 0.9925 - recall: 0.9992 - auc: 0.9998 - prc: 0.9998 - val_loss: 0.0013 - val_tp: 38116.0000 - val_fp: 0.0000e+00 - val_tn: 7835.0000 - val_fn: 3.0000 - val_accuracy: 0.9999 - val_precision: 1.0000 - val_recall: 0.9999 - val_auc: 1.0000 - val_prc: 1.0000\n",
            "Epoch 19/1000\n",
            "20/20 [==============================] - 1s 42ms/step - loss: 0.0206 - tp: 11153.0000 - fp: 79.6190 - tn: 11192.1429 - fn: 5.7143 - accuracy: 0.9962 - precision: 0.9930 - recall: 0.9994 - auc: 0.9998 - prc: 0.9997 - val_loss: 0.0012 - val_tp: 38116.0000 - val_fp: 0.0000e+00 - val_tn: 7835.0000 - val_fn: 3.0000 - val_accuracy: 0.9999 - val_precision: 1.0000 - val_recall: 0.9999 - val_auc: 1.0000 - val_prc: 1.0000\n",
            "Restoring model weights from the end of the best epoch.\n",
            "Epoch 00019: early stopping\n"
          ],
          "name": "stdout"
        }
      ]
    },
    {
      "cell_type": "code",
      "metadata": {
        "colab": {
          "base_uri": "https://localhost:8080/",
          "height": 607
        },
        "id": "LOMWYi3htSVB",
        "outputId": "9aa8cd5e-10a6-419b-cdcd-f8c84d6c14d5"
      },
      "source": [
        "plot_metrics(resampled_history)"
      ],
      "execution_count": 93,
      "outputs": [
        {
          "output_type": "display_data",
          "data": {
            "image/png": "[encoded data removed]",
            "text/plain": [
              "<Figure size 864x720 with 4 Axes>"
            ]
          },
          "metadata": {
            "tags": [],
            "needs_background": "light"
          }
        }
      ]
    },
    {
      "cell_type": "code",
      "metadata": {
        "id": "h2UlydfztX1v"
      },
      "source": [
        "train_predictions_resampled = resampled_model.predict(train_features, batch_size=BATCH_SIZE)\n",
        "test_predictions_resampled = resampled_model.predict(test_features, batch_size=BATCH_SIZE)"
      ],
      "execution_count": 96,
      "outputs": []
    },
    {
      "cell_type": "code",
      "metadata": {
        "colab": {
          "base_uri": "https://localhost:8080/",
          "height": 628
        },
        "id": "j0z_GWv6trnn",
        "outputId": "ab8f1225-672f-4f11-e133-6b5bbe8e8918"
      },
      "source": [
        "resampled_results = resampled_model.evaluate(test_features, test_labels,\n",
        "                                             batch_size=BATCH_SIZE, verbose=0)\n",
        "for name, value in zip(resampled_model.metrics_names, resampled_results):\n",
        "  print(name, ': ', value)\n",
        "print()\n",
        "\n",
        "plot_cm(test_labels, test_predictions_resampled)"
      ],
      "execution_count": 97,
      "outputs": [
        {
          "output_type": "stream",
          "text": [
            "loss :  0.0075552016496658325\n",
            "tp :  47396.0\n",
            "fp :  0.0\n",
            "tn :  10037.0\n",
            "fn :  10.0\n",
            "accuracy :  0.9998258948326111\n",
            "precision :  1.0\n",
            "recall :  0.9997890591621399\n",
            "auc :  0.9999788403511047\n",
            "prc :  0.9999960064888\n",
            "\n",
            "Legitimate Transactions Detected (True Negatives):  10037\n",
            "Legitimate Transactions Incorrectly Detected (False Positives):  0\n",
            "Fraudulent Transactions Missed (False Negatives):  10\n",
            "Fraudulent Transactions Detected (True Positives):  47396\n",
            "Total Fraudulent Transactions:  47406\n"
          ],
          "name": "stdout"
        },
        {
          "output_type": "display_data",
          "data": {
            "image/png": "[encoded data removed]",
            "text/plain": [
              "<Figure size 360x360 with 2 Axes>"
            ]
          },
          "metadata": {
            "tags": [],
            "needs_background": "light"
          }
        }
      ]
    },
    {
      "cell_type": "code",
      "metadata": {
        "colab": {
          "base_uri": "https://localhost:8080/",
          "height": 624
        },
        "id": "jtfw2HgruCXY",
        "outputId": "fbe4468e-5cde-46b7-bf0a-6565ef91effc"
      },
      "source": [
        "plot_roc(\"Train Weighted\", train_labels, train_predictions_weighted, color=colors[0])\n",
        "plot_roc(\"Test Weighted\", test_labels, test_predictions_weighted, color=colors[0], linestyle='--')\n",
        "\n",
        "plot_roc(\"Train Resampled\", train_labels, train_predictions_resampled, color=colors[1])\n",
        "plot_roc(\"Test Resampled\", test_labels, test_predictions_resampled, color=colors[1], linestyle='--')\n",
        "plt.legend(loc='lower right')\n"
      ],
      "execution_count": 98,
      "outputs": [
        {
          "output_type": "execute_result",
          "data": {
            "text/plain": [
              "<matplotlib.legend.Legend at 0x7f8f59362850>"
            ]
          },
          "metadata": {
            "tags": []
          },
          "execution_count": 98
        },
        {
          "output_type": "display_data",
          "data": {
            "image/png": "[encoded data removed]",
            "text/plain": [
              "<Figure size 864x720 with 1 Axes>"
            ]
          },
          "metadata": {
            "tags": [],
            "needs_background": "light"
          }
        }
      ]
    },
    {
      "cell_type": "code",
      "metadata": {
        "colab": {
          "base_uri": "https://localhost:8080/",
          "height": 623
        },
        "id": "EnV1NcBSvm5A",
        "outputId": "ab611cd1-46e6-423f-a340-82443276f0bf"
      },
      "source": [
        "plot_prc(\"Train Weighted\", train_labels, train_predictions_weighted, color=colors[0])\n",
        "plot_prc(\"Test Weighted\", test_labels, test_predictions_weighted, color=colors[0], linestyle='--')\n",
        "\n",
        "plot_prc(\"Train Resampled\", train_labels, train_predictions_resampled, color=colors[1])\n",
        "plot_prc(\"Test Resampled\", test_labels, test_predictions_resampled, color=colors[1], linestyle='--')\n",
        "plt.legend(loc='upper left')"
      ],
      "execution_count": 99,
      "outputs": [
        {
          "output_type": "execute_result",
          "data": {
            "text/plain": [
              "<matplotlib.legend.Legend at 0x7f8f587cf6d0>"
            ]
          },
          "metadata": {
            "tags": []
          },
          "execution_count": 99
        },
        {
          "output_type": "display_data",
          "data": {
            "image/png": "[encoded data removed]",
            "text/plain": [
              "<Figure size 864x720 with 1 Axes>"
            ]
          },
          "metadata": {
            "tags": [],
            "needs_background": "light"
          }
        }
      ]
    },
    {
      "cell_type": "markdown",
      "metadata": {
        "id": "92qsG2M3IRqi"
      },
      "source": [
        ""
      ]
    }
  ]
}